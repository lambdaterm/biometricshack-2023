{
 "cells": [
  {
   "cell_type": "code",
   "execution_count": null,
   "metadata": {},
   "outputs": [],
   "source": [
    "# !pip install segmentation_models\n",
    "# !pip install tqdm\n",
    "# !pip install albumentations"
   ]
  },
  {
   "cell_type": "code",
   "execution_count": 1,
   "outputs": [
    {
     "name": "stdout",
     "output_type": "stream",
     "text": [
      "TF version: 2.9.0\n",
      "GPU is available\n",
      "Python version 3.10.9 | packaged by conda-forge | (main, Jan 11 2023, 15:15:40) [MSC v.1916 64 bit (AMD64)]\n"
     ]
    }
   ],
   "source": [
    "import os\n",
    "import shutil\n",
    "import json\n",
    "from PIL import Image, ImageDraw\n",
    "import numpy as np\n",
    "from tqdm.notebook import tqdm\n",
    "import pathlib\n",
    "import pandas as pd\n",
    "from matplotlib import pyplot as plt\n",
    "from mpl_toolkits.axes_grid1 import ImageGrid\n",
    "import albumentations as alb\n",
    "import sys\n",
    "sys.path.append(\"..\")\n",
    "# import segmentation_models as sm\n",
    "from definitions import convert_path\n",
    "from pathlib import Path\n",
    "import cv2\n",
    "from sklearn.utils import class_weight\n",
    "from tensorflow.python.keras.callbacks import ModelCheckpoint, ReduceLROnPlateau, EarlyStopping\n",
    "from keras_preprocessing.image import ImageDataGenerator\n",
    "from sklearn.model_selection import train_test_split\n",
    "import tensorflow as tf\n",
    "import subprocess\n",
    "import hashlib\n",
    "from tensorflow.python.keras import layers, models\n",
    "\n",
    "print(\"TF version:\", tf.__version__)\n",
    "print(\"GPU is\", \"available\" if tf.config.list_physical_devices('GPU') else \"NOT AVAILABLE\")\n",
    "print(f'Python version {sys.version}')"
   ],
   "metadata": {
    "collapsed": false
   }
  },
  {
   "cell_type": "markdown",
   "source": [
    "### Инициализация констант"
   ],
   "metadata": {
    "collapsed": false
   }
  },
  {
   "cell_type": "code",
   "execution_count": 2,
   "metadata": {},
   "outputs": [
    {
     "name": "stdout",
     "output_type": "stream",
     "text": [
      "Done\n"
     ]
    }
   ],
   "source": [
    "MODEL_NAME ='FaceSpoofingBinaryClassification'\n",
    "IMAGE_SIZE = (224, 224, 3)\n",
    "IMAGE_SIZE_2 = (224, 224)\n",
    "DATA_DIR = pathlib.Path(r'D:\\Data\\Faces\\Train')\n",
    "DEPLOY_DIR = pathlib.Path(r'D:\\Data\\Faces')\n",
    "BATCH_SIZE = 32\n",
    "ALPHA  = 1\n",
    "EPOCHS = 10\n",
    "VALIDATION_SPLIT = 0.3\n",
    "TENSOR_SHAPE = [224, 224]\n",
    "IMAGE_FORMATS = ['.jpg', '.jpeg', '.png', '.bmp', '.jfif']\n",
    "print('Done')\n"
   ]
  },
  {
   "cell_type": "markdown",
   "source": [
    "### Функции"
   ],
   "metadata": {
    "collapsed": false
   }
  },
  {
   "cell_type": "code",
   "execution_count": 59,
   "metadata": {},
   "outputs": [
    {
     "name": "stdout",
     "output_type": "stream",
     "text": [
      "Functions are created\n"
     ]
    }
   ],
   "source": [
    "def get_training_augmentation():\n",
    "    train_transform = [\n",
    "        alb.geometric.rotate.RandomRotate90(),\n",
    "        alb.Affine(\n",
    "            translate_percent=[-0.1, 0.1],\n",
    "            rotate=[-3, 3],\n",
    "            shear=0,\n",
    "            scale=[1, 1.5],\n",
    "#             cval=0,\n",
    "#             cval_mask=0,\n",
    "            mode=2,\n",
    "            fit_output=False,\n",
    "            p=1),\n",
    "    ]\n",
    "    return alb.Compose(train_transform)\n",
    "\n",
    "\n",
    "def load_image(image_path, label):\n",
    "\n",
    "    image = tf.io.read_file(image_path)\n",
    "    image = tf.image.decode_jpeg(image, channels=3)\n",
    "\n",
    "    return image, label\n",
    "\n",
    "\n",
    "def aug_func(image):\n",
    "\n",
    "    augmented = train_transform(image=image)\n",
    "    pr_img = augmented['image']\n",
    "    pr_img = tf.cast(pr_img, tf.float32)\n",
    "    # pr_img = tf.image.resize(pr_img, size=TENSOR_SHAPE)\n",
    "    try:\n",
    "        pr_img = tf.image.resize(pr_img, size=TENSOR_SHAPE)\n",
    "    except:\n",
    "        # pr_img = pr_img\n",
    "        print(image.shape.as_list())\n",
    "\n",
    "    return pr_img\n",
    "\n",
    "\n",
    "def preprocess_train_image(image, label):\n",
    "\n",
    "    preprocessed = tf.numpy_function(aug_func, [image,], Tout=tf.float32)\n",
    "\n",
    "    preprocessed.set_shape(TENSOR_SHAPE + [3])\n",
    "\n",
    "    return preprocessed, label\n",
    "\n",
    "\n",
    "def aug_val_fn(image):\n",
    "\n",
    "    aug_img = tf.cast(image, tf.float32)\n",
    "    # aug_img = tf.image.resize(aug_img, size=TENSOR_SHAPE)\n",
    "    try:\n",
    "        aug_img = tf.image.resize(aug_img, size=TENSOR_SHAPE)\n",
    "    except:\n",
    "        print(image.shape.as_list())\n",
    "\n",
    "    # aug_img = tf.image.resize(aug_img, size=TENSOR_SHAPE)\n",
    "\n",
    "    return aug_img\n",
    "\n",
    "\n",
    "def preprocess_val_image(image, label):\n",
    "\n",
    "    preprocessed = tf.numpy_function(func=aug_val_fn, inp=[image,], Tout=tf.float32)\n",
    "\n",
    "    preprocessed.set_shape(TENSOR_SHAPE + [3])\n",
    "\n",
    "    return preprocessed, label\n",
    "\n",
    "\n",
    "train_transform = get_training_augmentation()\n",
    "print('Functions are created')"
   ]
  },
  {
   "cell_type": "code",
   "execution_count": 60,
   "metadata": {},
   "outputs": [
    {
     "name": "stdout",
     "output_type": "stream",
     "text": [
      "392437 168188 560625\n",
      "Datasets are created\n"
     ]
    }
   ],
   "source": [
    "def get_datasets(data_dir):\n",
    "    all_images_paths = np.array([str(path) for path in list(data_dir.glob('**/*')) if path.suffix in IMAGE_FORMATS])\n",
    "    all_image_paths = list(data_dir.glob('**/*'))\n",
    "\n",
    "    labels = np.array([1 if path.match('Real/*/*') else 0 for path in all_image_paths if path.suffix.lower() in IMAGE_FORMATS])\n",
    "    # print()\n",
    "    # ds = tf.data.Dataset.from_tensor_slices((all_images_paths, labels))\n",
    "\n",
    "    path_ds = tf.data.Dataset.from_tensor_slices(all_images_paths)\n",
    "    label_ds = tf.data.Dataset.from_tensor_slices(labels)\n",
    "    ds = tf.data.Dataset.zip((path_ds, label_ds))\n",
    "\n",
    "    dataset_size=len(ds)\n",
    "    train_size = int((1-VALIDATION_SPLIT) * dataset_size)\n",
    "\n",
    "    full_dataset = ds.shuffle(buffer_size=len(ds), reshuffle_each_iteration=True)\n",
    "    train_dataset = full_dataset.take(train_size)\n",
    "    val_dataset = full_dataset.skip(train_size)\n",
    "\n",
    "    return train_dataset, val_dataset, labels\n",
    "\n",
    "\n",
    "train_ds, val_ds, train_labels = get_datasets(DATA_DIR)\n",
    "size_train_ds = len(train_ds)\n",
    "size_val_ds = len(val_ds)\n",
    "train_ds = train_ds.shuffle(buffer_size=len(train_ds), reshuffle_each_iteration=True)\n",
    "train_ds = train_ds.map(load_image, num_parallel_calls=-1)\n",
    "train_ds = train_ds.map(preprocess_train_image, num_parallel_calls=-1)\n",
    "train_ds = train_ds.batch(32).prefetch(-1).repeat()\n",
    "#\n",
    "val_ds = val_ds.shuffle(buffer_size=len(val_ds), reshuffle_each_iteration=True)\n",
    "val_ds = val_ds.map(load_image, num_parallel_calls=-1)\n",
    "val_ds = val_ds.map(preprocess_val_image, num_parallel_calls=-1)\n",
    "val_ds = val_ds.batch(32).prefetch(-1)\n",
    "#\n",
    "\n",
    "print(size_train_ds, size_val_ds, size_train_ds+size_val_ds)\n",
    "print('Datasets are created')\n"
   ]
  },
  {
   "cell_type": "markdown",
   "source": [
    "### Смотрим что получилось"
   ],
   "metadata": {
    "collapsed": false
   }
  },
  {
   "cell_type": "code",
   "execution_count": null,
   "metadata": {
    "pycharm": {
     "is_executing": true
    }
   },
   "outputs": [],
   "source": [
    "im_batch, lbl_batch = next(iter(train_ds))\n",
    "\n",
    "test_image = im_batch[0].numpy()\n",
    "\n",
    "fig = plt.figure(figsize=(15, 15))\n",
    "grid = ImageGrid(fig, 111,  # similar to subplot(111)\n",
    "                 nrows_ncols=(4, 8),  # creates 2x2 grid of axes\n",
    "                 axes_pad=0.3,  # pad between axes in inch.\n",
    "                 )\n",
    "\n",
    "for i, grid in enumerate(zip(grid, im_batch)):\n",
    "    ax, im = grid\n",
    "    ax.imshow(im / 255.0)\n",
    "    ax.set_title('Fake' if lbl_batch[i] == 0 else 'Real', fontdict=None, loc='center', color = \"k\")\n",
    "\n",
    "plt.show()"
   ]
  },
  {
   "cell_type": "code",
   "execution_count": null,
   "outputs": [],
   "source": [
    "im_batch, lbl_batch = next(iter(val_ds))\n",
    "\n",
    "test_image = im_batch[0].numpy()\n",
    "\n",
    "fig = plt.figure(figsize=(15, 15))\n",
    "grid = ImageGrid(fig, 111,  # similar to subplot(111)\n",
    "                 nrows_ncols=(4, 8),  # creates 2x2 grid of axes\n",
    "                 axes_pad=0.3,  # pad between axes in inch.\n",
    "                 )\n",
    "\n",
    "for i, grid in enumerate(zip(grid, im_batch)):\n",
    "    ax, im = grid\n",
    "    ax.imshow(im / 255.0)\n",
    "    ax.set_title('Fake' if lbl_batch[i] == 0 else 'Real', fontdict=None, loc='center', color = \"k\")\n",
    "\n",
    "plt.show()"
   ],
   "metadata": {
    "collapsed": false,
    "pycharm": {
     "is_executing": true
    }
   }
  },
  {
   "cell_type": "code",
   "execution_count": 63,
   "metadata": {},
   "outputs": [
    {
     "name": "stdout",
     "output_type": "stream",
     "text": [
      "Веса отличааются в 3.1940974040547614 раз!!!\n"
     ]
    }
   ],
   "source": [
    "# print(train_labels)\n",
    "# lables\n",
    "class_weights = class_weight.compute_class_weight(\n",
    "           class_weight='balanced',\n",
    "           classes=[0, 1],\n",
    "           y=train_labels)\n",
    "print(f'Веса отличааются в {class_weights.max()/class_weights.min()} раз!!!')\n",
    "\n",
    "c_w = {class_num: weight for class_num, weight in enumerate(class_weights)}"
   ]
  },
  {
   "cell_type": "markdown",
   "source": [
    "### Собираем модель"
   ],
   "metadata": {
    "collapsed": false
   }
  },
  {
   "cell_type": "code",
   "execution_count": 64,
   "metadata": {},
   "outputs": [
    {
     "name": "stdout",
     "output_type": "stream",
     "text": [
      "Done\n"
     ]
    }
   ],
   "source": [
    "base_model = tf.keras.applications.mobilenet_v2.MobileNetV2(input_shape=(224, 224, 3), alpha=0.35, weights='imagenet', classes=1, classifier_activation='sigmoid', include_top=False) # was alpha=0.35\n",
    "base_model.trainable = False\n",
    "\n",
    "inputs = tf.keras.Input(shape=(224, 224, 3))\n",
    "norm = tf.keras.layers.Lambda(lambda x: x / 255, name='division_255')(inputs)\n",
    "x = base_model(norm, training=False)\n",
    "x = tf.keras.layers.GlobalAveragePooling2D()(x)\n",
    "# x = tf.keras.layers.Dense(512)(x)\n",
    "# x = tf.keras.layers.Dense(256)(x)\n",
    "outputs = tf.keras.layers.Dense(1, activation='sigmoid')(x)\n",
    "\n",
    "model = tf.keras.Model(inputs, outputs)\n",
    "\n",
    "\n",
    "model.compile(loss=tf.keras.losses.BinaryCrossentropy(),  #(from_logits=True),\n",
    "                  optimizer=tf.keras.optimizers.Adam(learning_rate=1e-3),  # was learning_rate=1e-3\n",
    "                  metrics=[tf.keras.metrics.binary_accuracy, tf.keras.metrics.Recall(), tf.keras.metrics.Precision()])\n",
    "print('Done')"
   ]
  },
  {
   "cell_type": "code",
   "execution_count": 65,
   "outputs": [
    {
     "name": "stdout",
     "output_type": "stream",
     "text": [
      "Model: \"model_5\"\n",
      "_________________________________________________________________\n",
      " Layer (type)                Output Shape              Param #   \n",
      "=================================================================\n",
      " input_11 (InputLayer)       [(None, 224, 224, 3)]     0         \n",
      "                                                                 \n",
      " division_255 (Lambda)       (None, 224, 224, 3)       0         \n",
      "                                                                 \n",
      " mobilenetv2_0.35_224 (Funct  (None, 7, 7, 1280)       410208    \n",
      " ional)                                                          \n",
      "                                                                 \n",
      " global_average_pooling2d_5   (None, 1280)             0         \n",
      " (GlobalAveragePooling2D)                                        \n",
      "                                                                 \n",
      " dense_11 (Dense)            (None, 1)                 1281      \n",
      "                                                                 \n",
      "=================================================================\n",
      "Total params: 411,489\n",
      "Trainable params: 1,281\n",
      "Non-trainable params: 410,208\n",
      "_________________________________________________________________\n"
     ]
    }
   ],
   "source": [
    "model.summary()"
   ],
   "metadata": {
    "collapsed": false
   }
  },
  {
   "cell_type": "code",
   "execution_count": 66,
   "metadata": {},
   "outputs": [
    {
     "name": "stdout",
     "output_type": "stream",
     "text": [
      "Done\n"
     ]
    }
   ],
   "source": [
    "reduce_learning_rate = ReduceLROnPlateau(monitor='val_loss',\n",
    "                                         factor=0.2,\n",
    "                                         patience=3,\n",
    "                                         verbose=1,\n",
    "                                         min_delta=0.000001,\n",
    "                                         cooldown=0,\n",
    "                                         min_lr=0.0000001)\n",
    "\n",
    "chk_path = convert_path(DEPLOY_DIR.joinpath('checkpoint', 'ckpt.h5'))\n",
    "\n",
    "checkpointer = tf.keras.callbacks.ModelCheckpoint(chk_path, save_best_only=True, verbose=1)\n",
    "\n",
    "stopper = EarlyStopping(monitor='val_loss', patience=5, restore_best_weights=True, min_delta=0.00001, verbose=1)\n",
    "\n",
    "print('Done')"
   ]
  },
  {
   "cell_type": "code",
   "execution_count": 67,
   "metadata": {},
   "outputs": [
    {
     "name": "stdout",
     "output_type": "stream",
     "text": [
      "Epochs = 100\n"
     ]
    }
   ],
   "source": [
    "EPOCHS = 100\n",
    "print(f'Epochs = {EPOCHS}')"
   ]
  },
  {
   "cell_type": "code",
   "execution_count": 17,
   "outputs": [],
   "source": [
    "model = tf.keras.models.load_model(r'D:\\Data\\Faces\\checkpoint\\ckpt.h5')\n"
   ],
   "metadata": {
    "collapsed": false
   }
  },
  {
   "cell_type": "markdown",
   "source": [
    "### Учим только классификационный слой"
   ],
   "metadata": {
    "collapsed": false
   }
  },
  {
   "cell_type": "code",
   "execution_count": 68,
   "metadata": {
    "scrolled": false
   },
   "outputs": [
    {
     "name": "stdout",
     "output_type": "stream",
     "text": [
      "Epoch 1/100\n",
      "2100/2100 [==============================] - ETA: 0s - loss: 0.3027 - binary_accuracy: 0.8773 - recall_8: 0.8729 - precision_8: 0.6922\n",
      "Epoch 1: val_loss improved from inf to 0.36233, saving model to D:\\Data\\Faces\\checkpoint\\ckpt.h5\n",
      "2100/2100 [==============================] - 960s 455ms/step - loss: 0.3027 - binary_accuracy: 0.8773 - recall_8: 0.8729 - precision_8: 0.6922 - val_loss: 0.3623 - val_binary_accuracy: 0.8342 - val_recall_8: 0.9520 - val_precision_8: 0.5963 - lr: 0.0010\n",
      "Epoch 2/100\n",
      "2100/2100 [==============================] - ETA: 0s - loss: 0.2471 - binary_accuracy: 0.9012 - recall_8: 0.8983 - precision_8: 0.7408\n",
      "Epoch 2: val_loss improved from 0.36233 to 0.33283, saving model to D:\\Data\\Faces\\checkpoint\\ckpt.h5\n",
      "2100/2100 [==============================] - 906s 432ms/step - loss: 0.2471 - binary_accuracy: 0.9012 - recall_8: 0.8983 - precision_8: 0.7408 - val_loss: 0.3328 - val_binary_accuracy: 0.8522 - val_recall_8: 0.9510 - val_precision_8: 0.6244 - lr: 0.0010\n",
      "Epoch 3/100\n",
      "2100/2100 [==============================] - ETA: 0s - loss: 0.2393 - binary_accuracy: 0.9043 - recall_8: 0.9027 - precision_8: 0.7495\n",
      "Epoch 3: val_loss improved from 0.33283 to 0.28773, saving model to D:\\Data\\Faces\\checkpoint\\ckpt.h5\n",
      "2100/2100 [==============================] - 904s 430ms/step - loss: 0.2393 - binary_accuracy: 0.9043 - recall_8: 0.9027 - precision_8: 0.7495 - val_loss: 0.2877 - val_binary_accuracy: 0.8777 - val_recall_8: 0.9483 - val_precision_8: 0.6726 - lr: 0.0010\n",
      "Epoch 4/100\n",
      "2100/2100 [==============================] - ETA: 0s - loss: 0.2290 - binary_accuracy: 0.9102 - recall_8: 0.9039 - precision_8: 0.7608\n",
      "Epoch 4: val_loss improved from 0.28773 to 0.22767, saving model to D:\\Data\\Faces\\checkpoint\\ckpt.h5\n",
      "2100/2100 [==============================] - 902s 430ms/step - loss: 0.2290 - binary_accuracy: 0.9102 - recall_8: 0.9039 - precision_8: 0.7608 - val_loss: 0.2277 - val_binary_accuracy: 0.9082 - val_recall_8: 0.9221 - val_precision_8: 0.7506 - lr: 0.0010\n",
      "Epoch 5/100\n",
      "2100/2100 [==============================] - ETA: 0s - loss: 0.2267 - binary_accuracy: 0.9100 - recall_8: 0.9074 - precision_8: 0.7614\n",
      "Epoch 5: val_loss did not improve from 0.22767\n",
      "2100/2100 [==============================] - 901s 429ms/step - loss: 0.2267 - binary_accuracy: 0.9100 - recall_8: 0.9074 - precision_8: 0.7614 - val_loss: 0.3222 - val_binary_accuracy: 0.8621 - val_recall_8: 0.9609 - val_precision_8: 0.6394 - lr: 0.0010\n",
      "Epoch 6/100\n",
      "2100/2100 [==============================] - ETA: 0s - loss: 0.2222 - binary_accuracy: 0.9113 - recall_8: 0.9094 - precision_8: 0.7651\n",
      "Epoch 6: val_loss did not improve from 0.22767\n",
      "2100/2100 [==============================] - 890s 424ms/step - loss: 0.2222 - binary_accuracy: 0.9113 - recall_8: 0.9094 - precision_8: 0.7651 - val_loss: 0.2940 - val_binary_accuracy: 0.8768 - val_recall_8: 0.9520 - val_precision_8: 0.6700 - lr: 0.0010\n",
      "Epoch 7/100\n",
      "2100/2100 [==============================] - ETA: 0s - loss: 0.2243 - binary_accuracy: 0.9117 - recall_8: 0.9084 - precision_8: 0.7648\n",
      "Epoch 00007: ReduceLROnPlateau reducing learning rate to 0.00020000000949949026.\n",
      "\n",
      "Epoch 7: val_loss did not improve from 0.22767\n",
      "2100/2100 [==============================] - 903s 430ms/step - loss: 0.2243 - binary_accuracy: 0.9117 - recall_8: 0.9084 - precision_8: 0.7648 - val_loss: 0.3130 - val_binary_accuracy: 0.8668 - val_recall_8: 0.9607 - val_precision_8: 0.6503 - lr: 0.0010\n",
      "Epoch 8/100\n",
      "2100/2100 [==============================] - ETA: 0s - loss: 0.2189 - binary_accuracy: 0.9140 - recall_8: 0.9111 - precision_8: 0.7693\n",
      "Epoch 8: val_loss did not improve from 0.22767\n",
      "2100/2100 [==============================] - 898s 428ms/step - loss: 0.2189 - binary_accuracy: 0.9140 - recall_8: 0.9111 - precision_8: 0.7693 - val_loss: 0.2702 - val_binary_accuracy: 0.8864 - val_recall_8: 0.9496 - val_precision_8: 0.6897 - lr: 2.0000e-04\n",
      "Epoch 9/100\n",
      "2100/2100 [==============================] - ETA: 0s - loss: 0.2165 - binary_accuracy: 0.9150 - recall_8: 0.9111 - precision_8: 0.7725Restoring model weights from the end of the best epoch.\n",
      "\n",
      "Epoch 9: val_loss did not improve from 0.22767\n",
      "2100/2100 [==============================] - 901s 429ms/step - loss: 0.2165 - binary_accuracy: 0.9150 - recall_8: 0.9111 - precision_8: 0.7725 - val_loss: 0.3000 - val_binary_accuracy: 0.8730 - val_recall_8: 0.9579 - val_precision_8: 0.6615 - lr: 2.0000e-04\n",
      "Epoch 00009: early stopping\n",
      "Done\n"
     ]
    }
   ],
   "source": [
    "history = model.fit(train_ds, \n",
    "                    validation_data=val_ds, \n",
    "                    steps_per_epoch=2100,  # was 300\n",
    "#                     validation_steps=150,\n",
    "                    epochs=EPOCHS,\n",
    "                    verbose=1,\n",
    "                    class_weight=c_w,\n",
    "                    callbacks=[\n",
    "                        reduce_learning_rate, \n",
    "                        stopper,\n",
    "                        checkpointer\n",
    "                    ])\n",
    "print('Done')"
   ]
  },
  {
   "cell_type": "code",
   "execution_count": 74,
   "outputs": [
    {
     "name": "stdout",
     "output_type": "stream",
     "text": [
      "WARNING:tensorflow:5 out of the last 11 calls to <function Model.make_predict_function.<locals>.predict_function at 0x0000021739F4B490> triggered tf.function retracing. Tracing is expensive and the excessive number of tracings could be due to (1) creating @tf.function repeatedly in a loop, (2) passing tensors with different shapes, (3) passing Python objects instead of tensors. For (1), please define your @tf.function outside of the loop. For (2), @tf.function has reduce_retracing=True option that can avoid unnecessary retracing. For (3), please refer to https://www.tensorflow.org/guide/function#controlling_retracing and https://www.tensorflow.org/api_docs/python/tf/function for  more details.\n"
     ]
    },
    {
     "name": "stderr",
     "output_type": "stream",
     "text": [
      "WARNING:tensorflow:5 out of the last 11 calls to <function Model.make_predict_function.<locals>.predict_function at 0x0000021739F4B490> triggered tf.function retracing. Tracing is expensive and the excessive number of tracings could be due to (1) creating @tf.function repeatedly in a loop, (2) passing tensors with different shapes, (3) passing Python objects instead of tensors. For (1), please define your @tf.function outside of the loop. For (2), @tf.function has reduce_retracing=True option that can avoid unnecessary retracing. For (3), please refer to https://www.tensorflow.org/guide/function#controlling_retracing and https://www.tensorflow.org/api_docs/python/tf/function for  more details.\n"
     ]
    },
    {
     "name": "stdout",
     "output_type": "stream",
     "text": [
      "1/1 [==============================] - 1s 1s/step\n",
      "[[0.9940116]]\n",
      "1/1 [==============================] - 0s 25ms/step\n",
      "[[0.00827301]]\n"
     ]
    }
   ],
   "source": [
    "test_image_real = load_image(r'D:\\Models\\MyFaceSpoofingBig\\TestCases\\Data\\real_1.jpg',1)\n",
    "test_image_real = preprocess_val_image(test_image_real[0] , 1)\n",
    "test_image_fake = load_image(r'D:\\Models\\MyFaceSpoofingBig\\TestCases\\Data\\fake_1.jpg',1)\n",
    "test_image_fake = preprocess_val_image(test_image_fake[0] , 1)\n",
    "result = model.predict(tf.expand_dims(test_image_real[0],axis=0))\n",
    "print(result)\n",
    "result = model.predict(tf.expand_dims(test_image_fake[0],axis=0))\n",
    "print(result)\n",
    "# batch = next(iter(val_ds))\n",
    "# batch[0]"
   ],
   "metadata": {
    "collapsed": false
   }
  },
  {
   "cell_type": "code",
   "execution_count": 73,
   "outputs": [
    {
     "name": "stderr",
     "output_type": "stream",
     "text": [
      "WARNING:absl:Found untraced functions such as _jit_compiled_convolution_op, _jit_compiled_convolution_op, _jit_compiled_convolution_op, _jit_compiled_convolution_op, _jit_compiled_convolution_op while saving (showing 5 of 52). These functions will not be directly callable after loading.\n"
     ]
    },
    {
     "name": "stdout",
     "output_type": "stream",
     "text": [
      "INFO:tensorflow:Assets written to: D:\\Data\\Faces\\release_face_spoofing_mn2_a35_v6\\assets\n"
     ]
    },
    {
     "name": "stderr",
     "output_type": "stream",
     "text": [
      "INFO:tensorflow:Assets written to: D:\\Data\\Faces\\release_face_spoofing_mn2_a35_v6\\assets\n"
     ]
    },
    {
     "name": "stdout",
     "output_type": "stream",
     "text": [
      "Models saved!\n"
     ]
    }
   ],
   "source": [
    "path = DEPLOY_DIR.joinpath('release_face_spoofing_mn2_a35_v6')\n",
    "path_h5 = DEPLOY_DIR.joinpath('release_face_spoofing_mn2_a35_v6.h5')\n",
    "model.save(path)\n",
    "model.save(path_h5)\n",
    "print('Models saved!')"
   ],
   "metadata": {
    "collapsed": false
   }
  },
  {
   "cell_type": "code",
   "execution_count": 45,
   "outputs": [
    {
     "data": {
      "text/plain": "<Figure size 640x480 with 1 Axes>",
      "image/png": "[encoded data removed]"
     },
     "metadata": {},
     "output_type": "display_data"
    },
    {
     "data": {
      "text/plain": "<Figure size 640x480 with 1 Axes>",
      "image/png": "[encoded data removed]"
     },
     "metadata": {},
     "output_type": "display_data"
    },
    {
     "ename": "KeyError",
     "evalue": "'recall'",
     "output_type": "error",
     "traceback": [
      "\u001B[1;31m---------------------------------------------------------------------------\u001B[0m",
      "\u001B[1;31mKeyError\u001B[0m                                  Traceback (most recent call last)",
      "Cell \u001B[1;32mIn[45], line 19\u001B[0m\n\u001B[0;32m     16\u001B[0m plt\u001B[38;5;241m.\u001B[39mshow()\n\u001B[0;32m     18\u001B[0m \u001B[38;5;66;03m# summarize history for recall\u001B[39;00m\n\u001B[1;32m---> 19\u001B[0m plt\u001B[38;5;241m.\u001B[39mplot(\u001B[43mhistory\u001B[49m\u001B[38;5;241;43m.\u001B[39;49m\u001B[43mhistory\u001B[49m\u001B[43m[\u001B[49m\u001B[38;5;124;43m'\u001B[39;49m\u001B[38;5;124;43mrecall\u001B[39;49m\u001B[38;5;124;43m'\u001B[39;49m\u001B[43m]\u001B[49m)\n\u001B[0;32m     20\u001B[0m plt\u001B[38;5;241m.\u001B[39mplot(history\u001B[38;5;241m.\u001B[39mhistory[\u001B[38;5;124m'\u001B[39m\u001B[38;5;124mval_recall\u001B[39m\u001B[38;5;124m'\u001B[39m])\n\u001B[0;32m     21\u001B[0m plt\u001B[38;5;241m.\u001B[39mtitle(\u001B[38;5;124m'\u001B[39m\u001B[38;5;124mmodel recall\u001B[39m\u001B[38;5;124m'\u001B[39m)\n",
      "\u001B[1;31mKeyError\u001B[0m: 'recall'"
     ]
    }
   ],
   "source": [
    "plt.plot(history.history['binary_accuracy'])\n",
    "plt.plot(history.history['val_binary_accuracy'])\n",
    "plt.title('model accuracy')\n",
    "plt.ylabel('accuracy')\n",
    "plt.xlabel('epoch')\n",
    "plt.legend(['train', 'val'], loc='upper left')\n",
    "plt.show()\n",
    "\n",
    "# summarize history for loss\n",
    "plt.plot(history.history['loss'])\n",
    "plt.plot(history.history['val_loss'])\n",
    "plt.title('model loss')\n",
    "plt.ylabel('loss')\n",
    "plt.xlabel('epoch')\n",
    "plt.legend(['train', 'val'], loc='upper left')\n",
    "plt.show()\n",
    "\n",
    "# summarize history for recall\n",
    "plt.plot(history.history['recall'])\n",
    "plt.plot(history.history['val_recall'])\n",
    "plt.title('model recall')\n",
    "plt.ylabel('recall')\n",
    "plt.xlabel('epoch')\n",
    "plt.legend(['train', 'val'], loc='upper left')\n",
    "plt.show()\n",
    "\n",
    "# summarize history for precision\n",
    "plt.plot(history.history['precision'])\n",
    "plt.plot(history.history['val_precision'])\n",
    "plt.title('model precision')\n",
    "plt.ylabel('precision')\n",
    "plt.xlabel('epoch')\n",
    "plt.legend(['train', 'val'], loc='upper left')\n",
    "plt.show()"
   ],
   "metadata": {
    "collapsed": false
   }
  },
  {
   "cell_type": "markdown",
   "source": [
    "### Размораживаем основу и доучиваем"
   ],
   "metadata": {
    "collapsed": false
   }
  },
  {
   "cell_type": "code",
   "execution_count": 70,
   "metadata": {},
   "outputs": [
    {
     "name": "stdout",
     "output_type": "stream",
     "text": [
      "154\n",
      "Done\n"
     ]
    }
   ],
   "source": [
    "base_model.trainable = True\n",
    "fine_tune_at = len(base_model.layers)\n",
    "print(fine_tune_at)\n",
    "for layer in base_model.layers[:fine_tune_at]:\n",
    "# [:fine_tune_at]:\n",
    "    layer.trainable =  True\n",
    "\n",
    "model.compile(loss=tf.keras.losses.BinaryCrossentropy(),  #(from_logits=True),\n",
    "                  optimizer=tf.keras.optimizers.Adam(learning_rate=1e-5),  # was learning_rate=1e-3\n",
    "                  metrics=[tf.keras.metrics.binary_accuracy, tf.keras.metrics.Recall(), tf.keras.metrics.Precision()])\n",
    "print('Done')"
   ]
  },
  {
   "cell_type": "code",
   "execution_count": 71,
   "metadata": {},
   "outputs": [
    {
     "name": "stdout",
     "output_type": "stream",
     "text": [
      "Epoch 1/100\n",
      "2100/2100 [==============================] - ETA: 0s - loss: 0.1857 - binary_accuracy: 0.9279 - recall_9: 0.9258 - precision_9: 0.8022\n",
      "Epoch 1: val_loss did not improve from 0.22767\n",
      "2100/2100 [==============================] - 1042s 493ms/step - loss: 0.1857 - binary_accuracy: 0.9279 - recall_9: 0.9258 - precision_9: 0.8022 - val_loss: 0.2519 - val_binary_accuracy: 0.8992 - val_recall_9: 0.9802 - val_precision_9: 0.7089 - lr: 1.0000e-05\n",
      "Epoch 2/100\n",
      "2100/2100 [==============================] - ETA: 0s - loss: 0.1481 - binary_accuracy: 0.9435 - recall_9: 0.9395 - precision_9: 0.8423\n",
      "Epoch 2: val_loss improved from 0.22767 to 0.16115, saving model to D:\\Data\\Faces\\checkpoint\\ckpt.h5\n",
      "2100/2100 [==============================] - 1032s 491ms/step - loss: 0.1481 - binary_accuracy: 0.9435 - recall_9: 0.9395 - precision_9: 0.8423 - val_loss: 0.1611 - val_binary_accuracy: 0.9383 - val_recall_9: 0.9756 - val_precision_9: 0.8067 - lr: 1.0000e-05\n",
      "Epoch 3/100\n",
      "2100/2100 [==============================] - ETA: 0s - loss: 0.1205 - binary_accuracy: 0.9545 - recall_9: 0.9524 - precision_9: 0.8681\n",
      "Epoch 3: val_loss improved from 0.16115 to 0.12826, saving model to D:\\Data\\Faces\\checkpoint\\ckpt.h5\n",
      "2100/2100 [==============================] - 1031s 491ms/step - loss: 0.1205 - binary_accuracy: 0.9545 - recall_9: 0.9524 - precision_9: 0.8681 - val_loss: 0.1283 - val_binary_accuracy: 0.9525 - val_recall_9: 0.9777 - val_precision_9: 0.8470 - lr: 1.0000e-05\n",
      "Epoch 4/100\n",
      "2100/2100 [==============================] - ETA: 0s - loss: 0.1112 - binary_accuracy: 0.9594 - recall_9: 0.9565 - precision_9: 0.8819\n",
      "Epoch 4: val_loss improved from 0.12826 to 0.11442, saving model to D:\\Data\\Faces\\checkpoint\\ckpt.h5\n",
      "2100/2100 [==============================] - 1033s 492ms/step - loss: 0.1112 - binary_accuracy: 0.9594 - recall_9: 0.9565 - precision_9: 0.8819 - val_loss: 0.1144 - val_binary_accuracy: 0.9578 - val_recall_9: 0.9739 - val_precision_9: 0.8660 - lr: 1.0000e-05\n",
      "Epoch 5/100\n",
      "2100/2100 [==============================] - ETA: 0s - loss: 0.1013 - binary_accuracy: 0.9631 - recall_9: 0.9603 - precision_9: 0.8925\n",
      "Epoch 5: val_loss improved from 0.11442 to 0.09692, saving model to D:\\Data\\Faces\\checkpoint\\ckpt.h5\n",
      "2100/2100 [==============================] - 1035s 493ms/step - loss: 0.1013 - binary_accuracy: 0.9631 - recall_9: 0.9603 - precision_9: 0.8925 - val_loss: 0.0969 - val_binary_accuracy: 0.9631 - val_recall_9: 0.9807 - val_precision_9: 0.8783 - lr: 1.0000e-05\n",
      "Epoch 6/100\n",
      "2100/2100 [==============================] - ETA: 0s - loss: 0.0965 - binary_accuracy: 0.9648 - recall_9: 0.9640 - precision_9: 0.8973\n",
      "Epoch 6: val_loss did not improve from 0.09692\n",
      "2100/2100 [==============================] - 1018s 485ms/step - loss: 0.0965 - binary_accuracy: 0.9648 - recall_9: 0.9640 - precision_9: 0.8973 - val_loss: 0.1025 - val_binary_accuracy: 0.9616 - val_recall_9: 0.9851 - val_precision_9: 0.8714 - lr: 1.0000e-05\n",
      "Epoch 7/100\n",
      "2100/2100 [==============================] - ETA: 0s - loss: 0.0853 - binary_accuracy: 0.9690 - recall_9: 0.9676 - precision_9: 0.9089\n",
      "Epoch 7: val_loss improved from 0.09692 to 0.06733, saving model to D:\\Data\\Faces\\checkpoint\\ckpt.h5\n",
      "2100/2100 [==============================] - 1034s 493ms/step - loss: 0.0853 - binary_accuracy: 0.9690 - recall_9: 0.9676 - precision_9: 0.9089 - val_loss: 0.0673 - val_binary_accuracy: 0.9748 - val_recall_9: 0.9754 - val_precision_9: 0.9229 - lr: 1.0000e-05\n",
      "Epoch 8/100\n",
      "2100/2100 [==============================] - ETA: 0s - loss: 0.0804 - binary_accuracy: 0.9704 - recall_9: 0.9692 - precision_9: 0.9119\n",
      "Epoch 8: val_loss improved from 0.06733 to 0.05770, saving model to D:\\Data\\Faces\\checkpoint\\ckpt.h5\n",
      "2100/2100 [==============================] - 1035s 493ms/step - loss: 0.0804 - binary_accuracy: 0.9704 - recall_9: 0.9692 - precision_9: 0.9119 - val_loss: 0.0577 - val_binary_accuracy: 0.9795 - val_recall_9: 0.9778 - val_precision_9: 0.9389 - lr: 1.0000e-05\n",
      "Epoch 9/100\n",
      "2100/2100 [==============================] - ETA: 0s - loss: 0.0773 - binary_accuracy: 0.9714 - recall_9: 0.9704 - precision_9: 0.9146\n",
      "Epoch 9: val_loss did not improve from 0.05770\n",
      "2100/2100 [==============================] - 1035s 493ms/step - loss: 0.0773 - binary_accuracy: 0.9714 - recall_9: 0.9704 - precision_9: 0.9146 - val_loss: 0.0584 - val_binary_accuracy: 0.9793 - val_recall_9: 0.9742 - val_precision_9: 0.9407 - lr: 1.0000e-05\n",
      "Epoch 10/100\n",
      "2100/2100 [==============================] - ETA: 0s - loss: 0.0714 - binary_accuracy: 0.9742 - recall_9: 0.9737 - precision_9: 0.9239\n",
      "Epoch 10: val_loss improved from 0.05770 to 0.05237, saving model to D:\\Data\\Faces\\checkpoint\\ckpt.h5\n",
      "2100/2100 [==============================] - 1041s 496ms/step - loss: 0.0714 - binary_accuracy: 0.9742 - recall_9: 0.9737 - precision_9: 0.9239 - val_loss: 0.0524 - val_binary_accuracy: 0.9815 - val_recall_9: 0.9804 - val_precision_9: 0.9444 - lr: 1.0000e-05\n",
      "Epoch 11/100\n",
      "2100/2100 [==============================] - ETA: 0s - loss: 0.0683 - binary_accuracy: 0.9750 - recall_9: 0.9738 - precision_9: 0.9249\n",
      "Epoch 11: val_loss did not improve from 0.05237\n",
      "2100/2100 [==============================] - 1056s 503ms/step - loss: 0.0683 - binary_accuracy: 0.9750 - recall_9: 0.9738 - precision_9: 0.9249 - val_loss: 0.0739 - val_binary_accuracy: 0.9740 - val_recall_9: 0.9875 - val_precision_9: 0.9105 - lr: 1.0000e-05\n",
      "Epoch 12/100\n",
      "2100/2100 [==============================] - ETA: 0s - loss: 0.0670 - binary_accuracy: 0.9765 - recall_9: 0.9760 - precision_9: 0.9289\n",
      "Epoch 12: val_loss improved from 0.05237 to 0.05082, saving model to D:\\Data\\Faces\\checkpoint\\ckpt.h5\n",
      "2100/2100 [==============================] - 1018s 485ms/step - loss: 0.0670 - binary_accuracy: 0.9765 - recall_9: 0.9760 - precision_9: 0.9289 - val_loss: 0.0508 - val_binary_accuracy: 0.9815 - val_recall_9: 0.9828 - val_precision_9: 0.9423 - lr: 1.0000e-05\n",
      "Epoch 13/100\n",
      "2100/2100 [==============================] - ETA: 0s - loss: 0.0607 - binary_accuracy: 0.9783 - recall_9: 0.9773 - precision_9: 0.9353\n",
      "Epoch 13: val_loss did not improve from 0.05082\n",
      "2100/2100 [==============================] - 1032s 491ms/step - loss: 0.0607 - binary_accuracy: 0.9783 - recall_9: 0.9773 - precision_9: 0.9353 - val_loss: 0.0513 - val_binary_accuracy: 0.9819 - val_recall_9: 0.9825 - val_precision_9: 0.9438 - lr: 1.0000e-05\n",
      "Epoch 14/100\n",
      "2100/2100 [==============================] - ETA: 0s - loss: 0.0593 - binary_accuracy: 0.9786 - recall_9: 0.9789 - precision_9: 0.9350\n",
      "Epoch 14: val_loss did not improve from 0.05082\n",
      "2100/2100 [==============================] - 1033s 492ms/step - loss: 0.0593 - binary_accuracy: 0.9786 - recall_9: 0.9789 - precision_9: 0.9350 - val_loss: 0.0511 - val_binary_accuracy: 0.9816 - val_recall_9: 0.9848 - val_precision_9: 0.9406 - lr: 1.0000e-05\n",
      "Epoch 15/100\n",
      "2100/2100 [==============================] - ETA: 0s - loss: 0.0615 - binary_accuracy: 0.9785 - recall_9: 0.9768 - precision_9: 0.9351\n",
      "Epoch 00015: ReduceLROnPlateau reducing learning rate to 1.9999999494757505e-06.\n",
      "\n",
      "Epoch 15: val_loss did not improve from 0.05082\n",
      "2100/2100 [==============================] - 1030s 491ms/step - loss: 0.0615 - binary_accuracy: 0.9785 - recall_9: 0.9768 - precision_9: 0.9351 - val_loss: 0.0513 - val_binary_accuracy: 0.9816 - val_recall_9: 0.9857 - val_precision_9: 0.9398 - lr: 1.0000e-05\n",
      "Epoch 16/100\n",
      "2100/2100 [==============================] - ETA: 0s - loss: 0.0528 - binary_accuracy: 0.9818 - recall_9: 0.9809 - precision_9: 0.9452\n",
      "Epoch 16: val_loss did not improve from 0.05082\n",
      "2100/2100 [==============================] - 1035s 493ms/step - loss: 0.0528 - binary_accuracy: 0.9818 - recall_9: 0.9809 - precision_9: 0.9452 - val_loss: 0.0534 - val_binary_accuracy: 0.9811 - val_recall_9: 0.9898 - val_precision_9: 0.9346 - lr: 2.0000e-06\n",
      "Epoch 17/100\n",
      "2100/2100 [==============================] - ETA: 0s - loss: 0.0498 - binary_accuracy: 0.9828 - recall_9: 0.9817 - precision_9: 0.9478Restoring model weights from the end of the best epoch.\n",
      "\n",
      "Epoch 17: val_loss did not improve from 0.05082\n",
      "2100/2100 [==============================] - 1035s 493ms/step - loss: 0.0498 - binary_accuracy: 0.9828 - recall_9: 0.9817 - precision_9: 0.9478 - val_loss: 0.0519 - val_binary_accuracy: 0.9811 - val_recall_9: 0.9895 - val_precision_9: 0.9353 - lr: 2.0000e-06\n",
      "Epoch 00017: early stopping\n"
     ]
    }
   ],
   "source": [
    "history = model.fit(train_ds,\n",
    "                    validation_data=val_ds, \n",
    "                    steps_per_epoch=2100,  # was 200\n",
    "#                     validation_steps=150,\n",
    "                    epochs=100,\n",
    "                    class_weight=c_w,\n",
    "                    verbose=1, \n",
    "                    callbacks=[\n",
    "                        reduce_learning_rate, \n",
    "                        stopper,\n",
    "                        checkpointer\n",
    "                    ])"
   ]
  },
  {
   "cell_type": "markdown",
   "source": [
    "### Смотрим что получилось"
   ],
   "metadata": {
    "collapsed": false
   }
  },
  {
   "cell_type": "code",
   "execution_count": 72,
   "metadata": {},
   "outputs": [
    {
     "data": {
      "text/plain": "<Figure size 640x480 with 1 Axes>",
      "image/png": "[encoded data removed]"
     },
     "metadata": {},
     "output_type": "display_data"
    },
    {
     "data": {
      "text/plain": "<Figure size 640x480 with 1 Axes>",
      "image/png": "[encoded data removed]"
     },
     "metadata": {},
     "output_type": "display_data"
    },
    {
     "ename": "KeyError",
     "evalue": "'recall'",
     "output_type": "error",
     "traceback": [
      "\u001B[1;31m---------------------------------------------------------------------------\u001B[0m",
      "\u001B[1;31mKeyError\u001B[0m                                  Traceback (most recent call last)",
      "Cell \u001B[1;32mIn[72], line 20\u001B[0m\n\u001B[0;32m     17\u001B[0m plt\u001B[38;5;241m.\u001B[39mshow()\n\u001B[0;32m     19\u001B[0m \u001B[38;5;66;03m# summarize history for recall\u001B[39;00m\n\u001B[1;32m---> 20\u001B[0m plt\u001B[38;5;241m.\u001B[39mplot(\u001B[43mhistory\u001B[49m\u001B[38;5;241;43m.\u001B[39;49m\u001B[43mhistory\u001B[49m\u001B[43m[\u001B[49m\u001B[38;5;124;43m'\u001B[39;49m\u001B[38;5;124;43mrecall\u001B[39;49m\u001B[38;5;124;43m'\u001B[39;49m\u001B[43m]\u001B[49m)\n\u001B[0;32m     21\u001B[0m plt\u001B[38;5;241m.\u001B[39mplot(history\u001B[38;5;241m.\u001B[39mhistory[\u001B[38;5;124m'\u001B[39m\u001B[38;5;124mval_recall\u001B[39m\u001B[38;5;124m'\u001B[39m])\n\u001B[0;32m     22\u001B[0m plt\u001B[38;5;241m.\u001B[39mtitle(\u001B[38;5;124m'\u001B[39m\u001B[38;5;124mmodel recall\u001B[39m\u001B[38;5;124m'\u001B[39m)\n",
      "\u001B[1;31mKeyError\u001B[0m: 'recall'"
     ]
    }
   ],
   "source": [
    "# summarize history for accuracy\n",
    "plt.plot(history.history['binary_accuracy'])\n",
    "plt.plot(history.history['val_binary_accuracy'])\n",
    "plt.title('model accuracy')\n",
    "plt.ylabel('accuracy')\n",
    "plt.xlabel('epoch')\n",
    "plt.legend(['train', 'val'], loc='upper left')\n",
    "plt.show()\n",
    "\n",
    "# summarize history for loss\n",
    "plt.plot(history.history['loss'])\n",
    "plt.plot(history.history['val_loss'])\n",
    "plt.title('model loss')\n",
    "plt.ylabel('loss')\n",
    "plt.xlabel('epoch')\n",
    "plt.legend(['train', 'val'], loc='upper left')\n",
    "plt.show()\n",
    "\n",
    "# summarize history for recall\n",
    "plt.plot(history.history['recall'])\n",
    "plt.plot(history.history['val_recall'])\n",
    "plt.title('model recall')\n",
    "plt.ylabel('recall')\n",
    "plt.xlabel('epoch')\n",
    "plt.legend(['train', 'val'], loc='upper left')\n",
    "plt.show()\n",
    "\n",
    "# summarize history for precision\n",
    "plt.plot(history.history['precision'])\n",
    "plt.plot(history.history['val_precision'])\n",
    "plt.title('model precision')\n",
    "plt.ylabel('precision')\n",
    "plt.xlabel('epoch')\n",
    "plt.legend(['train', 'val'], loc='upper left')\n",
    "plt.show()"
   ]
  },
  {
   "cell_type": "markdown",
   "source": [
    "### Грузим модель"
   ],
   "metadata": {
    "collapsed": false
   }
  },
  {
   "cell_type": "code",
   "execution_count": 52,
   "outputs": [
    {
     "name": "stdout",
     "output_type": "stream",
     "text": [
      "Model: \"model_3\"\n",
      "_________________________________________________________________\n",
      " Layer (type)                Output Shape              Param #   \n",
      "=================================================================\n",
      " input_8 (InputLayer)        [(None, 224, 224, 3)]     0         \n",
      "                                                                 \n",
      " division_255 (Lambda)       (None, 224, 224, 3)       0         \n",
      "                                                                 \n",
      " mobilenetv2_1.00_224 (Funct  (None, 7, 7, 1280)       2257984   \n",
      " ional)                                                          \n",
      "                                                                 \n",
      " global_average_pooling2d_3   (None, 1280)             0         \n",
      " (GlobalAveragePooling2D)                                        \n",
      "                                                                 \n",
      " dense_5 (Dense)             (None, 512)               655872    \n",
      "                                                                 \n",
      " dense_6 (Dense)             (None, 256)               131328    \n",
      "                                                                 \n",
      " dense_7 (Dense)             (None, 1)                 257       \n",
      "                                                                 \n",
      "=================================================================\n",
      "Total params: 3,045,441\n",
      "Trainable params: 3,011,329\n",
      "Non-trainable params: 34,112\n",
      "_________________________________________________________________\n"
     ]
    }
   ],
   "source": [
    "model.summary()"
   ],
   "metadata": {
    "collapsed": false
   }
  },
  {
   "cell_type": "markdown",
   "source": [
    "### Model Pruning"
   ],
   "metadata": {
    "collapsed": false
   }
  },
  {
   "cell_type": "code",
   "execution_count": 75,
   "outputs": [
    {
     "name": "stdout",
     "output_type": "stream",
     "text": [
      "Model: \"model_5\"\n",
      "_________________________________________________________________\n",
      " Layer (type)                Output Shape              Param #   \n",
      "=================================================================\n",
      " input_11 (InputLayer)       [(None, 224, 224, 3)]     0         \n",
      "                                                                 \n",
      " division_255 (Lambda)       (None, 224, 224, 3)       0         \n",
      "                                                                 \n",
      " mobilenetv2_0.35_224 (Funct  (None, 7, 7, 1280)       410208    \n",
      " ional)                                                          \n",
      "                                                                 \n",
      " global_average_pooling2d_5   (None, 1280)             0         \n",
      " (GlobalAveragePooling2D)                                        \n",
      "                                                                 \n",
      " dense_11 (Dense)            (None, 1)                 1281      \n",
      "                                                                 \n",
      "=================================================================\n",
      "Total params: 411,489\n",
      "Trainable params: 397,409\n",
      "Non-trainable params: 14,080\n",
      "_________________________________________________________________\n",
      "None\n",
      "Done\n"
     ]
    }
   ],
   "source": [
    "import tensorflow_model_optimization as tfmot\n",
    "prune_low_magnitude = tfmot.sparsity.keras.prune_low_magnitude\n",
    "print(model.summary())\n",
    "batch_size = 128\n",
    "epochs = 2\n",
    "validation_split = 0.1 # 10% of training set will be used for validation set.\n",
    "pruning_params = {\n",
    "      'pruning_schedule': tfmot.sparsity.keras.PolynomialDecay(initial_sparsity=0.50,\n",
    "                                                               final_sparsity=0.80,\n",
    "                                                               begin_step=0,\n",
    "                                                               end_step=2100)\n",
    "}\n",
    "mobilenet_for_pruning = tf.keras.models.clone_model(model.layers[2])\n",
    "mobilenet_for_pruning.set_weights(model.layers[2].get_weights())\n",
    "mobilenet_for_pruning = tfmot.sparsity.keras.prune_low_magnitude(mobilenet_for_pruning, **pruning_params)\n",
    "\n",
    "inputs = tf.keras.Input(shape=(224, 224, 3))\n",
    "# norm = inputs / 255.0\n",
    "norm = tf.keras.layers.Lambda(lambda x: x / 255, name='division_255')(inputs)\n",
    "x = mobilenet_for_pruning(norm, training=True)\n",
    "x = tf.keras.layers.GlobalAveragePooling2D()(x)\n",
    "# x = tf.keras.layers.Dense(512)(x)\n",
    "# x = tf.keras.layers.Dense(256)(x)\n",
    "outputs = tf.keras.layers.Dense(1, activation='sigmoid')(x)\n",
    "\n",
    "model_prune = tf.keras.Model(inputs, outputs)\n",
    "\n",
    "model_prune.compile(loss=tf.keras.losses.BinaryCrossentropy(),  #(from_logits=True),\n",
    "                  optimizer=tf.keras.optimizers.Adam(learning_rate=1e-5),  # was learning_rate=1e-3\n",
    "                  metrics=[tf.keras.metrics.binary_accuracy, tf.keras.metrics.Recall(), tf.keras.metrics.Precision()])\n",
    "print('Done')"
   ],
   "metadata": {
    "collapsed": false
   }
  },
  {
   "cell_type": "code",
   "execution_count": 54,
   "outputs": [
    {
     "name": "stdout",
     "output_type": "stream",
     "text": [
      "Done\n"
     ]
    }
   ],
   "source": [
    "model_prune.compile(loss=tf.keras.losses.BinaryCrossentropy(),  #(from_logits=True),\n",
    "                  optimizer=tf.keras.optimizers.Adam(learning_rate=1e-5),  # was learning_rate=1e-3\n",
    "                  metrics=[tf.keras.metrics.binary_accuracy, tf.keras.metrics.Recall(), tf.keras.metrics.Precision()])\n",
    "print('Done')"
   ],
   "metadata": {
    "collapsed": false
   }
  },
  {
   "cell_type": "code",
   "execution_count": 76,
   "outputs": [
    {
     "name": "stdout",
     "output_type": "stream",
     "text": [
      "Epoch 1/50\n",
      "2100/2100 [==============================] - ETA: 0s - loss: 0.4049 - binary_accuracy: 0.8052 - recall_10: 0.8372 - precision_10: 0.5594\n",
      "Epoch 1: val_loss did not improve from 0.05082\n",
      "2100/2100 [==============================] - 1328s 617ms/step - loss: 0.4049 - binary_accuracy: 0.8052 - recall_10: 0.8372 - precision_10: 0.5594 - val_loss: 0.3379 - val_binary_accuracy: 0.8600 - val_recall_10: 0.8246 - val_precision_10: 0.6674 - lr: 1.0000e-05\n",
      "Epoch 2/50\n",
      "2100/2100 [==============================] - ETA: 0s - loss: 0.3134 - binary_accuracy: 0.8763 - recall_10: 0.8507 - precision_10: 0.6991\n",
      "Epoch 2: val_loss did not improve from 0.05082\n",
      "2100/2100 [==============================] - 1258s 599ms/step - loss: 0.3134 - binary_accuracy: 0.8763 - recall_10: 0.8507 - precision_10: 0.6991 - val_loss: 0.2870 - val_binary_accuracy: 0.8849 - val_recall_10: 0.8615 - val_precision_10: 0.7136 - lr: 1.0000e-05\n",
      "Epoch 3/50\n",
      "2100/2100 [==============================] - ETA: 0s - loss: 0.2818 - binary_accuracy: 0.8906 - recall_10: 0.8680 - precision_10: 0.7271\n",
      "Epoch 3: val_loss did not improve from 0.05082\n",
      "2100/2100 [==============================] - 1259s 600ms/step - loss: 0.2818 - binary_accuracy: 0.8906 - recall_10: 0.8680 - precision_10: 0.7271 - val_loss: 0.2634 - val_binary_accuracy: 0.8953 - val_recall_10: 0.8807 - val_precision_10: 0.7355 - lr: 1.0000e-05\n",
      "Epoch 4/50\n",
      "2100/2100 [==============================] - ETA: 0s - loss: 0.2616 - binary_accuracy: 0.8968 - recall_10: 0.8784 - precision_10: 0.7389\n",
      "Epoch 4: val_loss did not improve from 0.05082\n",
      "2100/2100 [==============================] - 1260s 600ms/step - loss: 0.2616 - binary_accuracy: 0.8968 - recall_10: 0.8784 - precision_10: 0.7389 - val_loss: 0.2434 - val_binary_accuracy: 0.9044 - val_recall_10: 0.8987 - val_precision_10: 0.7492 - lr: 1.0000e-05\n",
      "Epoch 5/50\n",
      "2100/2100 [==============================] - ETA: 0s - loss: 0.2459 - binary_accuracy: 0.9051 - recall_10: 0.8875 - precision_10: 0.7575\n",
      "Epoch 5: val_loss did not improve from 0.05082\n",
      "2100/2100 [==============================] - 1258s 599ms/step - loss: 0.2459 - binary_accuracy: 0.9051 - recall_10: 0.8875 - precision_10: 0.7575 - val_loss: 0.2355 - val_binary_accuracy: 0.9069 - val_recall_10: 0.9125 - val_precision_10: 0.7506 - lr: 1.0000e-05\n",
      "Epoch 6/50\n",
      "2100/2100 [==============================] - ETA: 0s - loss: 0.2313 - binary_accuracy: 0.9112 - recall_10: 0.8988 - precision_10: 0.7671\n",
      "Epoch 6: val_loss did not improve from 0.05082\n",
      "2100/2100 [==============================] - 1247s 594ms/step - loss: 0.2313 - binary_accuracy: 0.9112 - recall_10: 0.8988 - precision_10: 0.7671 - val_loss: 0.2162 - val_binary_accuracy: 0.9158 - val_recall_10: 0.9092 - val_precision_10: 0.7771 - lr: 1.0000e-05\n",
      "Epoch 7/50\n",
      "2100/2100 [==============================] - ETA: 0s - loss: 0.2244 - binary_accuracy: 0.9117 - recall_10: 0.8978 - precision_10: 0.7689\n",
      "Epoch 7: val_loss did not improve from 0.05082\n",
      "2100/2100 [==============================] - 1258s 599ms/step - loss: 0.2244 - binary_accuracy: 0.9117 - recall_10: 0.8978 - precision_10: 0.7689 - val_loss: 0.2098 - val_binary_accuracy: 0.9178 - val_recall_10: 0.9170 - val_precision_10: 0.7775 - lr: 1.0000e-05\n",
      "Epoch 8/50\n",
      "2100/2100 [==============================] - ETA: 0s - loss: 0.2131 - binary_accuracy: 0.9179 - recall_10: 0.9077 - precision_10: 0.7844\n",
      "Epoch 8: val_loss did not improve from 0.05082\n",
      "2100/2100 [==============================] - 1263s 602ms/step - loss: 0.2131 - binary_accuracy: 0.9179 - recall_10: 0.9077 - precision_10: 0.7844 - val_loss: 0.2050 - val_binary_accuracy: 0.9195 - val_recall_10: 0.9239 - val_precision_10: 0.7809 - lr: 1.0000e-05\n",
      "Epoch 9/50\n",
      "2100/2100 [==============================] - ETA: 0s - loss: 0.2030 - binary_accuracy: 0.9199 - recall_10: 0.9096 - precision_10: 0.7873\n",
      "Epoch 9: val_loss did not improve from 0.05082\n",
      "2100/2100 [==============================] - 1263s 602ms/step - loss: 0.2030 - binary_accuracy: 0.9199 - recall_10: 0.9096 - precision_10: 0.7873 - val_loss: 0.1971 - val_binary_accuracy: 0.9230 - val_recall_10: 0.9275 - val_precision_10: 0.7868 - lr: 1.0000e-05\n",
      "Epoch 10/50\n",
      "2100/2100 [==============================] - ETA: 0s - loss: 0.1984 - binary_accuracy: 0.9227 - recall_10: 0.9138 - precision_10: 0.7929\n",
      "Epoch 10: val_loss did not improve from 0.05082\n",
      "2100/2100 [==============================] - 1259s 600ms/step - loss: 0.1984 - binary_accuracy: 0.9227 - recall_10: 0.9138 - precision_10: 0.7929 - val_loss: 0.1890 - val_binary_accuracy: 0.9263 - val_recall_10: 0.9281 - val_precision_10: 0.7961 - lr: 1.0000e-05\n",
      "Epoch 11/50\n",
      "2100/2100 [==============================] - ETA: 0s - loss: 0.1930 - binary_accuracy: 0.9250 - recall_10: 0.9173 - precision_10: 0.7982\n",
      "Epoch 11: val_loss did not improve from 0.05082\n",
      "2100/2100 [==============================] - 1267s 603ms/step - loss: 0.1930 - binary_accuracy: 0.9250 - recall_10: 0.9173 - precision_10: 0.7982 - val_loss: 0.1806 - val_binary_accuracy: 0.9306 - val_recall_10: 0.9323 - val_precision_10: 0.8043 - lr: 1.0000e-05\n",
      "Epoch 12/50\n",
      "2100/2100 [==============================] - ETA: 0s - loss: 0.1837 - binary_accuracy: 0.9280 - recall_10: 0.9213 - precision_10: 0.8021\n",
      "Epoch 12: val_loss did not improve from 0.05082\n",
      "2100/2100 [==============================] - 1237s 589ms/step - loss: 0.1837 - binary_accuracy: 0.9280 - recall_10: 0.9213 - precision_10: 0.8021 - val_loss: 0.1750 - val_binary_accuracy: 0.9326 - val_recall_10: 0.9349 - val_precision_10: 0.8119 - lr: 1.0000e-05\n",
      "Epoch 13/50\n",
      "2100/2100 [==============================] - ETA: 0s - loss: 0.1862 - binary_accuracy: 0.9286 - recall_10: 0.9222 - precision_10: 0.8068\n",
      "Epoch 13: val_loss did not improve from 0.05082\n",
      "2100/2100 [==============================] - 1262s 601ms/step - loss: 0.1862 - binary_accuracy: 0.9286 - recall_10: 0.9222 - precision_10: 0.8068 - val_loss: 0.1767 - val_binary_accuracy: 0.9303 - val_recall_10: 0.9396 - val_precision_10: 0.8025 - lr: 1.0000e-05\n",
      "Epoch 14/50\n",
      "2100/2100 [==============================] - ETA: 0s - loss: 0.1796 - binary_accuracy: 0.9307 - recall_10: 0.9265 - precision_10: 0.8106\n",
      "Epoch 14: val_loss did not improve from 0.05082\n",
      "2100/2100 [==============================] - 1265s 603ms/step - loss: 0.1796 - binary_accuracy: 0.9307 - recall_10: 0.9265 - precision_10: 0.8106 - val_loss: 0.1681 - val_binary_accuracy: 0.9353 - val_recall_10: 0.9404 - val_precision_10: 0.8153 - lr: 1.0000e-05\n",
      "Epoch 15/50\n",
      "2100/2100 [==============================] - ETA: 0s - loss: 0.1702 - binary_accuracy: 0.9339 - recall_10: 0.9296 - precision_10: 0.8176\n",
      "Epoch 15: val_loss did not improve from 0.05082\n",
      "2100/2100 [==============================] - 1266s 603ms/step - loss: 0.1702 - binary_accuracy: 0.9339 - recall_10: 0.9296 - precision_10: 0.8176 - val_loss: 0.1631 - val_binary_accuracy: 0.9373 - val_recall_10: 0.9422 - val_precision_10: 0.8215 - lr: 1.0000e-05\n",
      "Epoch 16/50\n",
      "2100/2100 [==============================] - ETA: 0s - loss: 0.1713 - binary_accuracy: 0.9337 - recall_10: 0.9287 - precision_10: 0.8192\n",
      "Epoch 16: val_loss did not improve from 0.05082\n",
      "2100/2100 [==============================] - 1265s 603ms/step - loss: 0.1713 - binary_accuracy: 0.9337 - recall_10: 0.9287 - precision_10: 0.8192 - val_loss: 0.1623 - val_binary_accuracy: 0.9373 - val_recall_10: 0.9434 - val_precision_10: 0.8197 - lr: 1.0000e-05\n",
      "Epoch 17/50\n",
      "2100/2100 [==============================] - ETA: 0s - loss: 0.1674 - binary_accuracy: 0.9356 - recall_10: 0.9317 - precision_10: 0.8236\n",
      "Epoch 17: val_loss did not improve from 0.05082\n",
      "2100/2100 [==============================] - 1274s 607ms/step - loss: 0.1674 - binary_accuracy: 0.9356 - recall_10: 0.9317 - precision_10: 0.8236 - val_loss: 0.1574 - val_binary_accuracy: 0.9398 - val_recall_10: 0.9472 - val_precision_10: 0.8268 - lr: 1.0000e-05\n",
      "Epoch 18/50\n",
      "2100/2100 [==============================] - ETA: 0s - loss: 0.1632 - binary_accuracy: 0.9357 - recall_10: 0.9331 - precision_10: 0.8216\n",
      "Epoch 18: val_loss did not improve from 0.05082\n",
      "2100/2100 [==============================] - 1220s 581ms/step - loss: 0.1632 - binary_accuracy: 0.9357 - recall_10: 0.9331 - precision_10: 0.8216 - val_loss: 0.1559 - val_binary_accuracy: 0.9397 - val_recall_10: 0.9469 - val_precision_10: 0.8255 - lr: 1.0000e-05\n",
      "Epoch 19/50\n",
      "2100/2100 [==============================] - ETA: 0s - loss: 0.1590 - binary_accuracy: 0.9396 - recall_10: 0.9368 - precision_10: 0.8306\n",
      "Epoch 19: val_loss did not improve from 0.05082\n",
      "2100/2100 [==============================] - 1268s 604ms/step - loss: 0.1590 - binary_accuracy: 0.9396 - recall_10: 0.9368 - precision_10: 0.8306 - val_loss: 0.1509 - val_binary_accuracy: 0.9430 - val_recall_10: 0.9504 - val_precision_10: 0.8338 - lr: 1.0000e-05\n",
      "Epoch 20/50\n",
      "2100/2100 [==============================] - ETA: 0s - loss: 0.1590 - binary_accuracy: 0.9388 - recall_10: 0.9362 - precision_10: 0.8283\n",
      "Epoch 20: val_loss did not improve from 0.05082\n",
      "2100/2100 [==============================] - 1275s 607ms/step - loss: 0.1590 - binary_accuracy: 0.9388 - recall_10: 0.9362 - precision_10: 0.8283 - val_loss: 0.1451 - val_binary_accuracy: 0.9448 - val_recall_10: 0.9438 - val_precision_10: 0.8433 - lr: 1.0000e-05\n",
      "Epoch 21/50\n",
      "2100/2100 [==============================] - ETA: 0s - loss: 0.1581 - binary_accuracy: 0.9391 - recall_10: 0.9342 - precision_10: 0.8325\n",
      "Epoch 21: val_loss did not improve from 0.05082\n",
      "2100/2100 [==============================] - 1271s 605ms/step - loss: 0.1581 - binary_accuracy: 0.9391 - recall_10: 0.9342 - precision_10: 0.8325 - val_loss: 0.1513 - val_binary_accuracy: 0.9417 - val_recall_10: 0.9533 - val_precision_10: 0.8281 - lr: 1.0000e-05\n",
      "Epoch 22/50\n",
      "2100/2100 [==============================] - ETA: 0s - loss: 0.1524 - binary_accuracy: 0.9405 - recall_10: 0.9398 - precision_10: 0.8333\n",
      "Epoch 22: val_loss did not improve from 0.05082\n",
      "2100/2100 [==============================] - 1271s 606ms/step - loss: 0.1524 - binary_accuracy: 0.9405 - recall_10: 0.9398 - precision_10: 0.8333 - val_loss: 0.1449 - val_binary_accuracy: 0.9446 - val_recall_10: 0.9503 - val_precision_10: 0.8387 - lr: 1.0000e-05\n",
      "Epoch 23/50\n",
      "2100/2100 [==============================] - ETA: 0s - loss: 0.1537 - binary_accuracy: 0.9406 - recall_10: 0.9370 - precision_10: 0.8349\n",
      "Epoch 23: val_loss did not improve from 0.05082\n",
      "2100/2100 [==============================] - 1278s 609ms/step - loss: 0.1537 - binary_accuracy: 0.9406 - recall_10: 0.9370 - precision_10: 0.8349 - val_loss: 0.1469 - val_binary_accuracy: 0.9442 - val_recall_10: 0.9549 - val_precision_10: 0.8348 - lr: 1.0000e-05\n",
      "Epoch 24/50\n",
      "2100/2100 [==============================] - ETA: 0s - loss: 0.1488 - binary_accuracy: 0.9437 - recall_10: 0.9422 - precision_10: 0.8394\n",
      "Epoch 24: val_loss did not improve from 0.05082\n",
      "2100/2100 [==============================] - 1247s 594ms/step - loss: 0.1488 - binary_accuracy: 0.9437 - recall_10: 0.9422 - precision_10: 0.8394 - val_loss: 0.1362 - val_binary_accuracy: 0.9480 - val_recall_10: 0.9516 - val_precision_10: 0.8501 - lr: 1.0000e-05\n",
      "Epoch 25/50\n",
      "2100/2100 [==============================] - ETA: 0s - loss: 0.1503 - binary_accuracy: 0.9432 - recall_10: 0.9406 - precision_10: 0.8402\n",
      "Epoch 25: val_loss did not improve from 0.05082\n",
      "2100/2100 [==============================] - 1276s 608ms/step - loss: 0.1503 - binary_accuracy: 0.9432 - recall_10: 0.9406 - precision_10: 0.8402 - val_loss: 0.1359 - val_binary_accuracy: 0.9488 - val_recall_10: 0.9531 - val_precision_10: 0.8498 - lr: 1.0000e-05\n",
      "Epoch 26/50\n",
      "2100/2100 [==============================] - ETA: 0s - loss: 0.1464 - binary_accuracy: 0.9436 - recall_10: 0.9414 - precision_10: 0.8418\n",
      "Epoch 26: val_loss did not improve from 0.05082\n",
      "2100/2100 [==============================] - 1273s 607ms/step - loss: 0.1464 - binary_accuracy: 0.9436 - recall_10: 0.9414 - precision_10: 0.8418 - val_loss: 0.1359 - val_binary_accuracy: 0.9482 - val_recall_10: 0.9543 - val_precision_10: 0.8477 - lr: 1.0000e-05\n",
      "Epoch 27/50\n",
      "2100/2100 [==============================] - ETA: 0s - loss: 0.1428 - binary_accuracy: 0.9454 - recall_10: 0.9430 - precision_10: 0.8466\n",
      "Epoch 27: val_loss did not improve from 0.05082\n",
      "2100/2100 [==============================] - 1276s 608ms/step - loss: 0.1428 - binary_accuracy: 0.9454 - recall_10: 0.9430 - precision_10: 0.8466 - val_loss: 0.1368 - val_binary_accuracy: 0.9474 - val_recall_10: 0.9567 - val_precision_10: 0.8435 - lr: 1.0000e-05\n",
      "Epoch 28/50\n",
      "2100/2100 [==============================] - ETA: 0s - loss: 0.1430 - binary_accuracy: 0.9451 - recall_10: 0.9429 - precision_10: 0.8459\n",
      "Epoch 28: val_loss did not improve from 0.05082\n",
      "2100/2100 [==============================] - 1276s 608ms/step - loss: 0.1430 - binary_accuracy: 0.9451 - recall_10: 0.9429 - precision_10: 0.8459 - val_loss: 0.1352 - val_binary_accuracy: 0.9478 - val_recall_10: 0.9569 - val_precision_10: 0.8454 - lr: 1.0000e-05\n",
      "Epoch 29/50\n",
      "2100/2100 [==============================] - ETA: 0s - loss: 0.1389 - binary_accuracy: 0.9469 - recall_10: 0.9466 - precision_10: 0.8485\n",
      "Epoch 29: val_loss did not improve from 0.05082\n",
      "2100/2100 [==============================] - 1283s 611ms/step - loss: 0.1389 - binary_accuracy: 0.9469 - recall_10: 0.9466 - precision_10: 0.8485 - val_loss: 0.1271 - val_binary_accuracy: 0.9521 - val_recall_10: 0.9555 - val_precision_10: 0.8588 - lr: 1.0000e-05\n",
      "Epoch 30/50\n",
      "2100/2100 [==============================] - ETA: 0s - loss: 0.1420 - binary_accuracy: 0.9459 - recall_10: 0.9443 - precision_10: 0.8465\n",
      "Epoch 30: val_loss did not improve from 0.05082\n",
      "2100/2100 [==============================] - 1244s 593ms/step - loss: 0.1420 - binary_accuracy: 0.9459 - recall_10: 0.9443 - precision_10: 0.8465 - val_loss: 0.1259 - val_binary_accuracy: 0.9525 - val_recall_10: 0.9552 - val_precision_10: 0.8616 - lr: 1.0000e-05\n",
      "Epoch 31/50\n",
      "2100/2100 [==============================] - ETA: 0s - loss: 0.1393 - binary_accuracy: 0.9482 - recall_10: 0.9464 - precision_10: 0.8525\n",
      "Epoch 31: val_loss did not improve from 0.05082\n",
      "2100/2100 [==============================] - 1286s 613ms/step - loss: 0.1393 - binary_accuracy: 0.9482 - recall_10: 0.9464 - precision_10: 0.8525 - val_loss: 0.1323 - val_binary_accuracy: 0.9496 - val_recall_10: 0.9601 - val_precision_10: 0.8481 - lr: 1.0000e-05\n",
      "Epoch 32/50\n",
      "2100/2100 [==============================] - ETA: 0s - loss: 0.1361 - binary_accuracy: 0.9478 - recall_10: 0.9478 - precision_10: 0.8508\n",
      "Epoch 32: val_loss did not improve from 0.05082\n",
      "2100/2100 [==============================] - 1279s 609ms/step - loss: 0.1361 - binary_accuracy: 0.9478 - recall_10: 0.9478 - precision_10: 0.8508 - val_loss: 0.1260 - val_binary_accuracy: 0.9521 - val_recall_10: 0.9592 - val_precision_10: 0.8562 - lr: 1.0000e-05\n",
      "Epoch 33/50\n",
      "2100/2100 [==============================] - ETA: 0s - loss: 0.1306 - binary_accuracy: 0.9514 - recall_10: 0.9500 - precision_10: 0.8604\n",
      "Epoch 33: val_loss did not improve from 0.05082\n",
      "2100/2100 [==============================] - 1279s 609ms/step - loss: 0.1306 - binary_accuracy: 0.9514 - recall_10: 0.9500 - precision_10: 0.8604 - val_loss: 0.1200 - val_binary_accuracy: 0.9544 - val_recall_10: 0.9581 - val_precision_10: 0.8656 - lr: 1.0000e-05\n",
      "Epoch 34/50\n",
      "2100/2100 [==============================] - ETA: 0s - loss: 0.1340 - binary_accuracy: 0.9487 - recall_10: 0.9488 - precision_10: 0.8534\n",
      "Epoch 34: val_loss did not improve from 0.05082\n",
      "2100/2100 [==============================] - 1280s 610ms/step - loss: 0.1340 - binary_accuracy: 0.9487 - recall_10: 0.9488 - precision_10: 0.8534 - val_loss: 0.1210 - val_binary_accuracy: 0.9545 - val_recall_10: 0.9601 - val_precision_10: 0.8642 - lr: 1.0000e-05\n",
      "Epoch 35/50\n",
      "2100/2100 [==============================] - ETA: 0s - loss: 0.1308 - binary_accuracy: 0.9505 - recall_10: 0.9482 - precision_10: 0.8568\n",
      "Epoch 35: val_loss did not improve from 0.05082\n",
      "2100/2100 [==============================] - 1254s 597ms/step - loss: 0.1308 - binary_accuracy: 0.9505 - recall_10: 0.9482 - precision_10: 0.8568 - val_loss: 0.1182 - val_binary_accuracy: 0.9560 - val_recall_10: 0.9588 - val_precision_10: 0.8695 - lr: 1.0000e-05\n",
      "Epoch 36/50\n",
      "2100/2100 [==============================] - ETA: 0s - loss: 0.1303 - binary_accuracy: 0.9515 - recall_10: 0.9511 - precision_10: 0.8617\n",
      "Epoch 36: val_loss did not improve from 0.05082\n",
      "2100/2100 [==============================] - 1269s 605ms/step - loss: 0.1303 - binary_accuracy: 0.9515 - recall_10: 0.9511 - precision_10: 0.8617 - val_loss: 0.1170 - val_binary_accuracy: 0.9562 - val_recall_10: 0.9589 - val_precision_10: 0.8705 - lr: 1.0000e-05\n",
      "Epoch 37/50\n",
      "2100/2100 [==============================] - ETA: 0s - loss: 0.1269 - binary_accuracy: 0.9508 - recall_10: 0.9518 - precision_10: 0.8570\n",
      "Epoch 37: val_loss did not improve from 0.05082\n",
      "2100/2100 [==============================] - 1299s 619ms/step - loss: 0.1269 - binary_accuracy: 0.9508 - recall_10: 0.9518 - precision_10: 0.8570 - val_loss: 0.1113 - val_binary_accuracy: 0.9586 - val_recall_10: 0.9594 - val_precision_10: 0.8783 - lr: 1.0000e-05\n",
      "Epoch 38/50\n",
      "2100/2100 [==============================] - ETA: 0s - loss: 0.1286 - binary_accuracy: 0.9509 - recall_10: 0.9485 - precision_10: 0.8598\n",
      "Epoch 38: val_loss did not improve from 0.05082\n",
      "2100/2100 [==============================] - 1283s 611ms/step - loss: 0.1286 - binary_accuracy: 0.9509 - recall_10: 0.9485 - precision_10: 0.8598 - val_loss: 0.1171 - val_binary_accuracy: 0.9562 - val_recall_10: 0.9598 - val_precision_10: 0.8701 - lr: 1.0000e-05\n",
      "Epoch 39/50\n",
      "2100/2100 [==============================] - ETA: 0s - loss: 0.1263 - binary_accuracy: 0.9527 - recall_10: 0.9536 - precision_10: 0.8618\n",
      "Epoch 39: val_loss did not improve from 0.05082\n",
      "2100/2100 [==============================] - 1284s 612ms/step - loss: 0.1263 - binary_accuracy: 0.9527 - recall_10: 0.9536 - precision_10: 0.8618 - val_loss: 0.1109 - val_binary_accuracy: 0.9586 - val_recall_10: 0.9611 - val_precision_10: 0.8774 - lr: 1.0000e-05\n",
      "Epoch 40/50\n",
      "2100/2100 [==============================] - ETA: 0s - loss: 0.1250 - binary_accuracy: 0.9528 - recall_10: 0.9514 - precision_10: 0.8637\n",
      "Epoch 40: val_loss did not improve from 0.05082\n",
      "2100/2100 [==============================] - 1290s 614ms/step - loss: 0.1250 - binary_accuracy: 0.9528 - recall_10: 0.9514 - precision_10: 0.8637 - val_loss: 0.1164 - val_binary_accuracy: 0.9566 - val_recall_10: 0.9640 - val_precision_10: 0.8685 - lr: 1.0000e-05\n",
      "Epoch 41/50\n",
      "2100/2100 [==============================] - ETA: 0s - loss: 0.1248 - binary_accuracy: 0.9528 - recall_10: 0.9518 - precision_10: 0.8649\n",
      "Epoch 41: val_loss did not improve from 0.05082\n",
      "2100/2100 [==============================] - 1262s 601ms/step - loss: 0.1248 - binary_accuracy: 0.9528 - recall_10: 0.9518 - precision_10: 0.8649 - val_loss: 0.1136 - val_binary_accuracy: 0.9568 - val_recall_10: 0.9642 - val_precision_10: 0.8691 - lr: 1.0000e-05\n",
      "Epoch 42/50\n",
      "2100/2100 [==============================] - ETA: 0s - loss: 0.1191 - binary_accuracy: 0.9549 - recall_10: 0.9534 - precision_10: 0.8702\n",
      "Epoch 00042: ReduceLROnPlateau reducing learning rate to 1.9999999494757505e-06.\n",
      "\n",
      "Epoch 42: val_loss did not improve from 0.05082\n",
      "2100/2100 [==============================] - 1303s 621ms/step - loss: 0.1191 - binary_accuracy: 0.9549 - recall_10: 0.9534 - precision_10: 0.8702 - val_loss: 0.1135 - val_binary_accuracy: 0.9574 - val_recall_10: 0.9626 - val_precision_10: 0.8716 - lr: 1.0000e-05\n",
      "Epoch 43/50\n",
      "2100/2100 [==============================] - ETA: 0s - loss: 0.1193 - binary_accuracy: 0.9533 - recall_10: 0.9543 - precision_10: 0.8629\n",
      "Epoch 43: val_loss did not improve from 0.05082\n",
      "2100/2100 [==============================] - 1308s 623ms/step - loss: 0.1193 - binary_accuracy: 0.9533 - recall_10: 0.9543 - precision_10: 0.8629 - val_loss: 0.1111 - val_binary_accuracy: 0.9586 - val_recall_10: 0.9629 - val_precision_10: 0.8756 - lr: 2.0000e-06\n",
      "Epoch 44/50\n",
      "2100/2100 [==============================] - ETA: 0s - loss: 0.1180 - binary_accuracy: 0.9549 - recall_10: 0.9545 - precision_10: 0.8696\n",
      "Epoch 44: val_loss did not improve from 0.05082\n",
      "2100/2100 [==============================] - 1309s 624ms/step - loss: 0.1180 - binary_accuracy: 0.9549 - recall_10: 0.9545 - precision_10: 0.8696 - val_loss: 0.1090 - val_binary_accuracy: 0.9587 - val_recall_10: 0.9628 - val_precision_10: 0.8765 - lr: 2.0000e-06\n",
      "Epoch 45/50\n",
      "2100/2100 [==============================] - ETA: 0s - loss: 0.1216 - binary_accuracy: 0.9550 - recall_10: 0.9536 - precision_10: 0.8695\n",
      "Epoch 45: val_loss did not improve from 0.05082\n",
      "2100/2100 [==============================] - 1318s 628ms/step - loss: 0.1216 - binary_accuracy: 0.9550 - recall_10: 0.9536 - precision_10: 0.8695 - val_loss: 0.1107 - val_binary_accuracy: 0.9586 - val_recall_10: 0.9636 - val_precision_10: 0.8746 - lr: 2.0000e-06\n",
      "Epoch 46/50\n",
      "2100/2100 [==============================] - ETA: 0s - loss: 0.1240 - binary_accuracy: 0.9527 - recall_10: 0.9485 - precision_10: 0.8650\n",
      "Epoch 46: val_loss did not improve from 0.05082\n",
      "2100/2100 [==============================] - 1312s 625ms/step - loss: 0.1240 - binary_accuracy: 0.9527 - recall_10: 0.9485 - precision_10: 0.8650 - val_loss: 0.1119 - val_binary_accuracy: 0.9580 - val_recall_10: 0.9649 - val_precision_10: 0.8720 - lr: 2.0000e-06\n",
      "Epoch 47/50\n",
      "2100/2100 [==============================] - ETA: 0s - loss: 0.1180 - binary_accuracy: 0.9556 - recall_10: 0.9560 - precision_10: 0.8706\n",
      "Epoch 00047: ReduceLROnPlateau reducing learning rate to 3.999999989900971e-07.\n",
      "\n",
      "Epoch 47: val_loss did not improve from 0.05082\n",
      "2100/2100 [==============================] - 1281s 610ms/step - loss: 0.1180 - binary_accuracy: 0.9556 - recall_10: 0.9560 - precision_10: 0.8706 - val_loss: 0.1116 - val_binary_accuracy: 0.9581 - val_recall_10: 0.9632 - val_precision_10: 0.8735 - lr: 2.0000e-06\n",
      "Epoch 48/50\n",
      "2100/2100 [==============================] - ETA: 0s - loss: 0.1189 - binary_accuracy: 0.9556 - recall_10: 0.9549 - precision_10: 0.8715\n",
      "Epoch 48: val_loss did not improve from 0.05082\n",
      "2100/2100 [==============================] - 1301s 620ms/step - loss: 0.1189 - binary_accuracy: 0.9556 - recall_10: 0.9549 - precision_10: 0.8715 - val_loss: 0.1094 - val_binary_accuracy: 0.9590 - val_recall_10: 0.9636 - val_precision_10: 0.8770 - lr: 4.0000e-07\n",
      "Epoch 49/50\n",
      "2100/2100 [==============================] - ETA: 0s - loss: 0.1191 - binary_accuracy: 0.9560 - recall_10: 0.9542 - precision_10: 0.8730Restoring model weights from the end of the best epoch.\n",
      "\n",
      "Epoch 49: val_loss did not improve from 0.05082\n",
      "2100/2100 [==============================] - 1292s 615ms/step - loss: 0.1191 - binary_accuracy: 0.9560 - recall_10: 0.9542 - precision_10: 0.8730 - val_loss: 0.1102 - val_binary_accuracy: 0.9581 - val_recall_10: 0.9644 - val_precision_10: 0.8727 - lr: 4.0000e-07\n",
      "Epoch 00049: early stopping\n"
     ]
    }
   ],
   "source": [
    "history = model_prune.fit(train_ds, validation_data=val_ds, steps_per_epoch=2100,\n",
    "                  batch_size=batch_size, epochs=50,  class_weight=c_w,\n",
    "                  callbacks=[\n",
    "                        reduce_learning_rate,\n",
    "                        tfmot.sparsity.keras.UpdatePruningStep(),\n",
    "                        stopper,\n",
    "                        checkpointer\n",
    "                    ])"
   ],
   "metadata": {
    "collapsed": false
   }
  },
  {
   "cell_type": "code",
   "execution_count": 77,
   "outputs": [
    {
     "name": "stdout",
     "output_type": "stream",
     "text": [
      "WARNING:tensorflow:Compiled the loaded model, but the compiled metrics have yet to be built. `model.compile_metrics` will be empty until you train or evaluate the model.\n"
     ]
    },
    {
     "name": "stderr",
     "output_type": "stream",
     "text": [
      "WARNING:tensorflow:Compiled the loaded model, but the compiled metrics have yet to be built. `model.compile_metrics` will be empty until you train or evaluate the model.\n"
     ]
    },
    {
     "name": "stdout",
     "output_type": "stream",
     "text": [
      "WARNING:tensorflow:Compiled the loaded model, but the compiled metrics have yet to be built. `model.compile_metrics` will be empty until you train or evaluate the model.\n"
     ]
    },
    {
     "name": "stderr",
     "output_type": "stream",
     "text": [
      "WARNING:tensorflow:Compiled the loaded model, but the compiled metrics have yet to be built. `model.compile_metrics` will be empty until you train or evaluate the model.\n",
      "WARNING:absl:Found untraced functions such as _jit_compiled_convolution_op, _jit_compiled_convolution_op, _jit_compiled_convolution_op, _jit_compiled_convolution_op, _jit_compiled_convolution_op while saving (showing 5 of 52). These functions will not be directly callable after loading.\n"
     ]
    },
    {
     "name": "stdout",
     "output_type": "stream",
     "text": [
      "INFO:tensorflow:Assets written to: D:\\Data\\Faces\\release_face_spoofing_mn2_a35_v5_pruned\\assets\n"
     ]
    },
    {
     "name": "stderr",
     "output_type": "stream",
     "text": [
      "INFO:tensorflow:Assets written to: D:\\Data\\Faces\\release_face_spoofing_mn2_a35_v5_pruned\\assets\n"
     ]
    },
    {
     "name": "stdout",
     "output_type": "stream",
     "text": [
      "Model saved!\n"
     ]
    }
   ],
   "source": [
    "import tensorflow_model_optimization as tfmot\n",
    "for layer in model_prune.layers:\n",
    "    layer.trainable = False\n",
    "model_for_export = tfmot.sparsity.keras.strip_pruning(model_prune)\n",
    "\n",
    "path_h5 = DEPLOY_DIR.joinpath('release_face_spoofing_mn2_a35_v5_pruned.h5')\n",
    "model_for_export.save(path_h5, include_optimizer=False)\n",
    "path = DEPLOY_DIR.joinpath('release_face_spoofing_mn2_a35_v5_pruned')\n",
    "model_for_export.save(path, include_optimizer=False)\n",
    "print('Model saved!')"
   ],
   "metadata": {
    "collapsed": false
   }
  },
  {
   "cell_type": "code",
   "execution_count": 78,
   "outputs": [
    {
     "name": "stdout",
     "output_type": "stream",
     "text": [
      "WARNING:tensorflow:5 out of the last 11 calls to <function Model.make_predict_function.<locals>.predict_function at 0x000002148B8D3D00> triggered tf.function retracing. Tracing is expensive and the excessive number of tracings could be due to (1) creating @tf.function repeatedly in a loop, (2) passing tensors with different shapes, (3) passing Python objects instead of tensors. For (1), please define your @tf.function outside of the loop. For (2), @tf.function has reduce_retracing=True option that can avoid unnecessary retracing. For (3), please refer to https://www.tensorflow.org/guide/function#controlling_retracing and https://www.tensorflow.org/api_docs/python/tf/function for  more details.\n"
     ]
    },
    {
     "name": "stderr",
     "output_type": "stream",
     "text": [
      "WARNING:tensorflow:5 out of the last 11 calls to <function Model.make_predict_function.<locals>.predict_function at 0x000002148B8D3D00> triggered tf.function retracing. Tracing is expensive and the excessive number of tracings could be due to (1) creating @tf.function repeatedly in a loop, (2) passing tensors with different shapes, (3) passing Python objects instead of tensors. For (1), please define your @tf.function outside of the loop. For (2), @tf.function has reduce_retracing=True option that can avoid unnecessary retracing. For (3), please refer to https://www.tensorflow.org/guide/function#controlling_retracing and https://www.tensorflow.org/api_docs/python/tf/function for  more details.\n"
     ]
    },
    {
     "name": "stdout",
     "output_type": "stream",
     "text": [
      "1/1 [==============================] - 1s 1s/step\n",
      "[[0.9978968]]\n",
      "1/1 [==============================] - 0s 23ms/step\n",
      "[[0.13479795]]\n"
     ]
    }
   ],
   "source": [
    "test_image_real = load_image(r'D:\\Models\\MyFaceSpoofingBig\\TestCases\\Data\\real_1.jpg',1)\n",
    "test_image_real = preprocess_val_image(test_image_real[0] , 1)\n",
    "test_image_fake = load_image(r'D:\\Models\\MyFaceSpoofingBig\\TestCases\\Data\\fake_1.jpg',1)\n",
    "test_image_fake = preprocess_val_image(test_image_fake[0] , 1)\n",
    "result = model_for_export.predict(tf.expand_dims(test_image_real[0],axis=0))\n",
    "print(result)\n",
    "result = model_for_export.predict(tf.expand_dims(test_image_fake[0],axis=0))\n",
    "print(result)"
   ],
   "metadata": {
    "collapsed": false
   }
  }
 ],
 "metadata": {
  "kernelspec": {
   "display_name": "Python 3",
   "language": "python",
   "name": "python3"
  },
  "language_info": {
   "codemirror_mode": {
    "name": "ipython",
    "version": 3
   },
   "file_extension": ".py",
   "mimetype": "text/x-python",
   "name": "python",
   "nbconvert_exporter": "python",
   "pygments_lexer": "ipython3",
   "version": "3.8.10"
  }
 },
 "nbformat": 4,
 "nbformat_minor": 2
}
